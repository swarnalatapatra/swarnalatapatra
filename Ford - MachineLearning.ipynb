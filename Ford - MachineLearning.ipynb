{
 "cells": [
  {
   "cell_type": "code",
   "execution_count": 96,
   "id": "834cb26b",
   "metadata": {},
   "outputs": [],
   "source": [
    "import pandas as pd\n",
    "import numpy as np\n",
    "from sklearn.model_selection import train_test_split\n",
    "from sklearn.ensemble import RandomForestRegressor\n",
    "from sklearn.preprocessing import LabelEncoder"
   ]
  },
  {
   "cell_type": "code",
   "execution_count": 97,
   "id": "63349d14",
   "metadata": {},
   "outputs": [],
   "source": [
    "read_file = pd.read_excel (\"TestCase.xlsx\",sheet_name='Cars')\n",
    "read_file.to_csv (\"Cars.csv\", index = None, header=True)\n",
    "df = pd.DataFrame(pd.read_csv(\"Cars.csv\"))\n",
    "df_cars = pd.DataFrame(pd.read_csv(\"Cars.csv\"))"
   ]
  },
  {
   "cell_type": "markdown",
   "id": "946eae88",
   "metadata": {},
   "source": [
    "### Exploratory Data Analysis"
   ]
  },
  {
   "cell_type": "code",
   "execution_count": 98,
   "id": "09dde6c6",
   "metadata": {},
   "outputs": [
    {
     "data": {
      "text/plain": [
       "((444, 9),\n",
       "    Age  Gender  Employed  Graduate  Work Exp  Salary  Distance  license  \\\n",
       " 0   28    Male         0       0.0         4    14.3       3.2        0   \n",
       " 1   23  Female         1       0.0         4     8.3       3.3        0   \n",
       " 2   29    Male         1       0.0         7    13.4       4.1        0   \n",
       " 3   28  Female         1       1.0         5    13.4       4.5        0   \n",
       " 4   27    Male         1       0.0         4    13.4       4.6        0   \n",
       " \n",
       "           Transport  \n",
       " 0  Public Transport  \n",
       " 1  Public Transport  \n",
       " 2  Public Transport  \n",
       " 3  Public Transport  \n",
       " 4  Public Transport  )"
      ]
     },
     "execution_count": 98,
     "metadata": {},
     "output_type": "execute_result"
    }
   ],
   "source": [
    "df.shape, df.head()"
   ]
  },
  {
   "cell_type": "code",
   "execution_count": 99,
   "id": "f5cfbeed",
   "metadata": {},
   "outputs": [
    {
     "data": {
      "text/html": [
       "<div>\n",
       "<style scoped>\n",
       "    .dataframe tbody tr th:only-of-type {\n",
       "        vertical-align: middle;\n",
       "    }\n",
       "\n",
       "    .dataframe tbody tr th {\n",
       "        vertical-align: top;\n",
       "    }\n",
       "\n",
       "    .dataframe thead th {\n",
       "        text-align: right;\n",
       "    }\n",
       "</style>\n",
       "<table border=\"1\" class=\"dataframe\">\n",
       "  <thead>\n",
       "    <tr style=\"text-align: right;\">\n",
       "      <th></th>\n",
       "      <th>Age</th>\n",
       "      <th>Employed</th>\n",
       "      <th>Graduate</th>\n",
       "      <th>Work Exp</th>\n",
       "      <th>Salary</th>\n",
       "      <th>Distance</th>\n",
       "      <th>license</th>\n",
       "    </tr>\n",
       "  </thead>\n",
       "  <tbody>\n",
       "    <tr>\n",
       "      <th>count</th>\n",
       "      <td>444.000000</td>\n",
       "      <td>444.000000</td>\n",
       "      <td>443.000000</td>\n",
       "      <td>444.000000</td>\n",
       "      <td>444.000000</td>\n",
       "      <td>444.000000</td>\n",
       "      <td>444.000000</td>\n",
       "    </tr>\n",
       "    <tr>\n",
       "      <th>mean</th>\n",
       "      <td>27.747748</td>\n",
       "      <td>0.754505</td>\n",
       "      <td>0.252822</td>\n",
       "      <td>6.299550</td>\n",
       "      <td>16.238739</td>\n",
       "      <td>11.323198</td>\n",
       "      <td>0.234234</td>\n",
       "    </tr>\n",
       "    <tr>\n",
       "      <th>std</th>\n",
       "      <td>4.416710</td>\n",
       "      <td>0.430866</td>\n",
       "      <td>0.435121</td>\n",
       "      <td>5.112098</td>\n",
       "      <td>10.453851</td>\n",
       "      <td>3.606149</td>\n",
       "      <td>0.423997</td>\n",
       "    </tr>\n",
       "    <tr>\n",
       "      <th>min</th>\n",
       "      <td>18.000000</td>\n",
       "      <td>0.000000</td>\n",
       "      <td>0.000000</td>\n",
       "      <td>0.000000</td>\n",
       "      <td>6.500000</td>\n",
       "      <td>3.200000</td>\n",
       "      <td>0.000000</td>\n",
       "    </tr>\n",
       "    <tr>\n",
       "      <th>25%</th>\n",
       "      <td>25.000000</td>\n",
       "      <td>1.000000</td>\n",
       "      <td>0.000000</td>\n",
       "      <td>3.000000</td>\n",
       "      <td>9.800000</td>\n",
       "      <td>8.800000</td>\n",
       "      <td>0.000000</td>\n",
       "    </tr>\n",
       "    <tr>\n",
       "      <th>50%</th>\n",
       "      <td>27.000000</td>\n",
       "      <td>1.000000</td>\n",
       "      <td>0.000000</td>\n",
       "      <td>5.000000</td>\n",
       "      <td>13.600000</td>\n",
       "      <td>11.000000</td>\n",
       "      <td>0.000000</td>\n",
       "    </tr>\n",
       "    <tr>\n",
       "      <th>75%</th>\n",
       "      <td>30.000000</td>\n",
       "      <td>1.000000</td>\n",
       "      <td>1.000000</td>\n",
       "      <td>8.000000</td>\n",
       "      <td>15.725000</td>\n",
       "      <td>13.425000</td>\n",
       "      <td>0.000000</td>\n",
       "    </tr>\n",
       "    <tr>\n",
       "      <th>max</th>\n",
       "      <td>43.000000</td>\n",
       "      <td>1.000000</td>\n",
       "      <td>1.000000</td>\n",
       "      <td>24.000000</td>\n",
       "      <td>57.000000</td>\n",
       "      <td>23.400000</td>\n",
       "      <td>1.000000</td>\n",
       "    </tr>\n",
       "  </tbody>\n",
       "</table>\n",
       "</div>"
      ],
      "text/plain": [
       "              Age    Employed    Graduate    Work Exp      Salary    Distance  \\\n",
       "count  444.000000  444.000000  443.000000  444.000000  444.000000  444.000000   \n",
       "mean    27.747748    0.754505    0.252822    6.299550   16.238739   11.323198   \n",
       "std      4.416710    0.430866    0.435121    5.112098   10.453851    3.606149   \n",
       "min     18.000000    0.000000    0.000000    0.000000    6.500000    3.200000   \n",
       "25%     25.000000    1.000000    0.000000    3.000000    9.800000    8.800000   \n",
       "50%     27.000000    1.000000    0.000000    5.000000   13.600000   11.000000   \n",
       "75%     30.000000    1.000000    1.000000    8.000000   15.725000   13.425000   \n",
       "max     43.000000    1.000000    1.000000   24.000000   57.000000   23.400000   \n",
       "\n",
       "          license  \n",
       "count  444.000000  \n",
       "mean     0.234234  \n",
       "std      0.423997  \n",
       "min      0.000000  \n",
       "25%      0.000000  \n",
       "50%      0.000000  \n",
       "75%      0.000000  \n",
       "max      1.000000  "
      ]
     },
     "execution_count": 99,
     "metadata": {},
     "output_type": "execute_result"
    }
   ],
   "source": [
    "df.describe()"
   ]
  },
  {
   "cell_type": "code",
   "execution_count": 100,
   "id": "27ccf542",
   "metadata": {},
   "outputs": [
    {
     "data": {
      "text/plain": [
       "array(['Public Transport', 'Other', 'Private Transport'], dtype=object)"
      ]
     },
     "execution_count": 100,
     "metadata": {},
     "output_type": "execute_result"
    }
   ],
   "source": [
    "df.Transport.unique()"
   ]
  },
  {
   "cell_type": "code",
   "execution_count": 101,
   "id": "3171b358",
   "metadata": {},
   "outputs": [
    {
     "data": {
      "text/plain": [
       "Age          0\n",
       "Gender       0\n",
       "Employed     0\n",
       "Graduate     1\n",
       "Work Exp     0\n",
       "Salary       0\n",
       "Distance     0\n",
       "license      0\n",
       "Transport    0\n",
       "dtype: int64"
      ]
     },
     "execution_count": 101,
     "metadata": {},
     "output_type": "execute_result"
    }
   ],
   "source": [
    "df.isna().sum()"
   ]
  },
  {
   "cell_type": "code",
   "execution_count": 102,
   "id": "2b8cb175",
   "metadata": {},
   "outputs": [],
   "source": [
    "df['Graduate'] = df['Graduate'].fillna(0)"
   ]
  },
  {
   "cell_type": "code",
   "execution_count": 103,
   "id": "f35dc912",
   "metadata": {},
   "outputs": [
    {
     "data": {
      "text/plain": [
       "Age          0\n",
       "Gender       0\n",
       "Employed     0\n",
       "Graduate     0\n",
       "Work Exp     0\n",
       "Salary       0\n",
       "Distance     0\n",
       "license      0\n",
       "Transport    0\n",
       "dtype: int64"
      ]
     },
     "execution_count": 103,
     "metadata": {},
     "output_type": "execute_result"
    }
   ],
   "source": [
    "df.isna().sum()"
   ]
  },
  {
   "cell_type": "markdown",
   "id": "516cd5ff",
   "metadata": {},
   "source": [
    "### Data Preparation"
   ]
  },
  {
   "cell_type": "code",
   "execution_count": 104,
   "id": "98a027b9",
   "metadata": {},
   "outputs": [],
   "source": [
    "factor = pd.factorize(df['Transport'])\n",
    "df.Transport = factor[0]\n",
    "definitions = factor[1]"
   ]
  },
  {
   "cell_type": "code",
   "execution_count": 105,
   "id": "03e4d27d",
   "metadata": {},
   "outputs": [],
   "source": [
    "df_features= df.drop('Transport', axis = 1)\n",
    "features = pd.get_dummies(df_features, columns = ['Gender'])\n",
    "feature_list = list(features.columns)\n",
    "features = np.array(features)\n",
    "labels = np.array(df['Transport'])"
   ]
  },
  {
   "cell_type": "code",
   "execution_count": 145,
   "id": "7469c198",
   "metadata": {},
   "outputs": [
    {
     "data": {
      "text/plain": [
       "((377, 9), (67, 9), (377,), (67,))"
      ]
     },
     "execution_count": 145,
     "metadata": {},
     "output_type": "execute_result"
    }
   ],
   "source": [
    "train_features, test_features, train_labels, test_labels = train_test_split(features, labels, test_size = 0.15, random_state = 42)\n",
    "# val_features, test_features, val_labels, test_labels = train_test_split(test_features, test_labels, test_size = 0.37, random_state = 42)\n",
    "\n",
    "train_features.shape, test_features.shape, train_labels.shape, test_labels.shape"
   ]
  },
  {
   "cell_type": "markdown",
   "id": "a27edc5f",
   "metadata": {},
   "source": [
    "### Supervised Model - Random Forrest Decision Trees"
   ]
  },
  {
   "cell_type": "code",
   "execution_count": 146,
   "id": "cb3d7591",
   "metadata": {},
   "outputs": [
    {
     "data": {
      "text/plain": [
       "RandomForestRegressor(n_estimators=1000, random_state=42)"
      ]
     },
     "execution_count": 146,
     "metadata": {},
     "output_type": "execute_result"
    }
   ],
   "source": [
    "rf = RandomForestRegressor(n_estimators = 1000, random_state = 42)\n",
    "rf.fit(train_features, train_labels)\n"
   ]
  },
  {
   "cell_type": "code",
   "execution_count": 147,
   "id": "341563e3",
   "metadata": {},
   "outputs": [],
   "source": [
    "predictions = rf.predict(test_features)\n",
    "predictions = np.rint(predictions)"
   ]
  },
  {
   "cell_type": "code",
   "execution_count": 148,
   "id": "d743de84",
   "metadata": {},
   "outputs": [
    {
     "data": {
      "text/plain": [
       "{0: 'Public Transport', 1: 'Other', 2: 'Private Transport'}"
      ]
     },
     "execution_count": 148,
     "metadata": {},
     "output_type": "execute_result"
    }
   ],
   "source": [
    "reversefactor = dict(zip(range(3),definitions))\n",
    "reversefactor"
   ]
  },
  {
   "cell_type": "code",
   "execution_count": 149,
   "id": "770e466b",
   "metadata": {},
   "outputs": [],
   "source": [
    "orig = np.vectorize(reversefactor.get)(test_labels)\n",
    "pred = np.vectorize(reversefactor.get)(predictions)"
   ]
  },
  {
   "cell_type": "code",
   "execution_count": 150,
   "id": "0496c305",
   "metadata": {},
   "outputs": [
    {
     "name": "stdout",
     "output_type": "stream",
     "text": [
      "Predicted          Other  Private Transport  Public Transport\n",
      "Actual                                                       \n",
      "Other                  9                  1                 3\n",
      "Private Transport      1                 10                 0\n",
      "Public Transport       8                  1                34\n"
     ]
    }
   ],
   "source": [
    "print(pd.crosstab(orig, pred, rownames=['Actual'], colnames=['Predicted']))"
   ]
  },
  {
   "cell_type": "code",
   "execution_count": 151,
   "id": "80e579b7",
   "metadata": {},
   "outputs": [
    {
     "data": {
      "text/plain": [
       "(0.7507507507507508, 0.797365425272402, 0.7667367928938756, None)"
      ]
     },
     "execution_count": 151,
     "metadata": {},
     "output_type": "execute_result"
    }
   ],
   "source": [
    "from sklearn.metrics import precision_recall_fscore_support\n",
    "precision_recall_fscore_support(orig, pred, average='macro')"
   ]
  },
  {
   "cell_type": "code",
   "execution_count": 152,
   "id": "683dd14e",
   "metadata": {},
   "outputs": [],
   "source": [
    "from sklearn.metrics import roc_curve, auc\n",
    "import matplotlib.pyplot as plt"
   ]
  },
  {
   "cell_type": "code",
   "execution_count": 153,
   "id": "8634d035",
   "metadata": {},
   "outputs": [
    {
     "name": "stdout",
     "output_type": "stream",
     "text": [
      "{0: 'Public Transport', 1: 'Other', 2: 'Private Transport'}\n"
     ]
    }
   ],
   "source": [
    "fpr = {}\n",
    "tpr = {}\n",
    "thresh ={}\n",
    "n_class = 3\n",
    "print(reversefactor)\n",
    "for i in range(n_class):    \n",
    "    fpr[i], tpr[i], thresh[i] = roc_curve(test_labels, predictions, pos_label=i)\n",
    " "
   ]
  },
  {
   "cell_type": "code",
   "execution_count": 154,
   "id": "dd670ff5",
   "metadata": {},
   "outputs": [
    {
     "data": {
      "image/png": "[encoded data removed]",
      "text/plain": [
       "<Figure size 432x288 with 1 Axes>"
      ]
     },
     "metadata": {
      "needs_background": "light"
     },
     "output_type": "display_data"
    }
   ],
   "source": [
    "# plotting    \n",
    "plt.plot(fpr[0], tpr[0], linestyle='--',color='orange', label='Public Transport vs Rest')\n",
    "plt.plot(fpr[1], tpr[1], linestyle='--',color='green', label='Other vs Rest')\n",
    "plt.plot(fpr[2], tpr[2], linestyle='--',color='blue', label='Private Transport vs Rest')\n",
    "plt.title('Multiclass ROC curve')\n",
    "plt.xlabel('False Positive Rate')\n",
    "plt.ylabel('True Positive rate')\n",
    "plt.legend(loc='best')\n",
    "plt.savefig('Multiclass ROC',dpi=300);    "
   ]
  },
  {
   "cell_type": "markdown",
   "id": "c25b770c",
   "metadata": {},
   "source": [
    "#### Feature Importance"
   ]
  },
  {
   "cell_type": "code",
   "execution_count": 155,
   "id": "1545ecd5",
   "metadata": {},
   "outputs": [
    {
     "data": {
      "text/plain": [
       "<BarContainer object of 9 artists>"
      ]
     },
     "execution_count": 155,
     "metadata": {},
     "output_type": "execute_result"
    },
    {
     "data": {
      "image/png": "[encoded data removed]",
      "text/plain": [
       "<Figure size 432x288 with 1 Axes>"
      ]
     },
     "metadata": {
      "needs_background": "light"
     },
     "output_type": "display_data"
    }
   ],
   "source": [
    "rf.feature_importances_\n",
    "plt.barh(feature_list, rf.feature_importances_)"
   ]
  },
  {
   "cell_type": "markdown",
   "id": "75981d59",
   "metadata": {},
   "source": [
    "### Unsupervised Model - Regression Feature Selection"
   ]
  },
  {
   "cell_type": "code",
   "execution_count": 167,
   "id": "644fdd70",
   "metadata": {},
   "outputs": [
    {
     "data": {
      "text/plain": [
       "KMeans(n_clusters=3)"
      ]
     },
     "execution_count": 167,
     "metadata": {},
     "output_type": "execute_result"
    }
   ],
   "source": [
    "from sklearn.cluster import KMeans\n",
    "model = KMeans(n_clusters=3)\n",
    "model.fit(train_features)\n"
   ]
  },
  {
   "cell_type": "code",
   "execution_count": 168,
   "id": "e0685c8a",
   "metadata": {},
   "outputs": [],
   "source": [
    "train_pred = model.predict(train_features)\n",
    "test_pred = model.predict(test_features)"
   ]
  },
  {
   "cell_type": "code",
   "execution_count": 169,
   "id": "c17413b9",
   "metadata": {},
   "outputs": [],
   "source": [
    "orig = np.vectorize(reversefactor.get)(test_labels)\n",
    "pred = np.vectorize(reversefactor.get)(test_pred)"
   ]
  },
  {
   "cell_type": "code",
   "execution_count": 170,
   "id": "2417f984",
   "metadata": {},
   "outputs": [
    {
     "name": "stdout",
     "output_type": "stream",
     "text": [
      "Predicted          Other  Private Transport  Public Transport\n",
      "Actual                                                       \n",
      "Other                  1                  7                 5\n",
      "Private Transport     10                  0                 1\n",
      "Public Transport       2                 30                11\n"
     ]
    }
   ],
   "source": [
    "print(pd.crosstab(orig, pred, rownames=['Actual'], colnames=['Predicted']))"
   ]
  },
  {
   "cell_type": "code",
   "execution_count": 180,
   "id": "574934e2",
   "metadata": {},
   "outputs": [
    {
     "data": {
      "image/png": "[encoded data removed]",
      "text/plain": [
       "<Figure size 432x288 with 1 Axes>"
      ]
     },
     "metadata": {
      "needs_background": "light"
     },
     "output_type": "display_data"
    }
   ],
   "source": [
    "x_axis = features[:, 4]  # Salary\n",
    "y_axis = features[:, 5]  # Distance\n",
    "\n",
    "# Plotting\n",
    "plt.scatter(x_axis, y_axis, c=labels)\n",
    "plt.show()\n",
    "\n",
    "#{'violet': 'Public Transport', 'green': 'Other', 'yellow': 'Private Transport'}"
   ]
  }
 ],
 "metadata": {
  "kernelspec": {
   "display_name": "Python 3",
   "language": "python",
   "name": "python3"
  },
  "language_info": {
   "codemirror_mode": {
    "name": "ipython",
    "version": 3
   },
   "file_extension": ".py",
   "mimetype": "text/x-python",
   "name": "python",
   "nbconvert_exporter": "python",
   "pygments_lexer": "ipython3",
   "version": "3.8.8"
  }
 },
 "nbformat": 4,
 "nbformat_minor": 5
}
